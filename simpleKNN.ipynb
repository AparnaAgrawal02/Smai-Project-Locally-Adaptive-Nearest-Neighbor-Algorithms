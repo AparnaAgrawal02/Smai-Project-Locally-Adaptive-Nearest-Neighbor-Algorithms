{
  "nbformat": 4,
  "nbformat_minor": 0,
  "metadata": {
    "colab": {
      "provenance": []
    },
    "kernelspec": {
      "name": "python3",
      "display_name": "Python 3"
    },
    "language_info": {
      "name": "python"
    }
  },
  "cells": [
    {
      "cell_type": "code",
      "execution_count": null,
      "metadata": {
        "id": "88eSI0cgow3Q"
      },
      "outputs": [],
      "source": [
        "from sklearn.neighbors import KNeighborsClassifier\n",
        "from sklearn.model_selection import train_test_split\n",
        "from sklearn.model_selection import LeaveOneOut\n",
        "from sklearn.preprocessing import Normalizer\n",
        "from sklearn import datasets\n",
        "from sklearn.preprocessing import normalize\n",
        "from sklearn import metrics\n",
        "from sklearn.model_selection import KFold, cross_val_score\n",
        "import numpy as np\n",
        "import seaborn as sns\n",
        "from sklearn.manifold import TSNE\n",
        "import pandas as pd\n",
        "import matplotlib.pyplot as plt\n",
        "from mlxtend.plotting import plot_decision_regions"
      ]
    },
    {
      "cell_type": "code",
      "source": [
        "!pip3 install uci-dataset\n",
        "from sklearn import datasets\n",
        "import uci_dataset as dataset\n",
        "!git clone https://github.com/tanmay-pro/sampleData.git"
      ],
      "metadata": {
        "colab": {
          "base_uri": "https://localhost:8080/"
        },
        "id": "pyQR1c7GpSNT",
        "outputId": "594a1035-4cff-4a12-d15c-387ce2cf75d8"
      },
      "execution_count": null,
      "outputs": [
        {
          "output_type": "stream",
          "name": "stdout",
          "text": [
            "Looking in indexes: https://pypi.org/simple, https://us-python.pkg.dev/colab-wheels/public/simple/\n",
            "Collecting uci-dataset\n",
            "  Downloading uci_dataset-0.0.7-py2.py3-none-any.whl (10 kB)\n",
            "Requirement already satisfied: scikit-learn>=0.22.0 in /usr/local/lib/python3.8/dist-packages (from uci-dataset) (1.0.2)\n",
            "Requirement already satisfied: scipy>=1.4.1 in /usr/local/lib/python3.8/dist-packages (from uci-dataset) (1.7.3)\n",
            "Requirement already satisfied: xlrd>=1.0.0 in /usr/local/lib/python3.8/dist-packages (from uci-dataset) (1.1.0)\n",
            "Requirement already satisfied: pandas>=0.13 in /usr/local/lib/python3.8/dist-packages (from uci-dataset) (1.3.5)\n",
            "Requirement already satisfied: numpy in /usr/local/lib/python3.8/dist-packages (from uci-dataset) (1.21.6)\n",
            "Collecting rarfile\n",
            "  Downloading rarfile-4.0-py3-none-any.whl (28 kB)\n",
            "Requirement already satisfied: python-dateutil>=2.7.3 in /usr/local/lib/python3.8/dist-packages (from pandas>=0.13->uci-dataset) (2.8.2)\n",
            "Requirement already satisfied: pytz>=2017.3 in /usr/local/lib/python3.8/dist-packages (from pandas>=0.13->uci-dataset) (2022.6)\n",
            "Requirement already satisfied: six>=1.5 in /usr/local/lib/python3.8/dist-packages (from python-dateutil>=2.7.3->pandas>=0.13->uci-dataset) (1.15.0)\n",
            "Requirement already satisfied: joblib>=0.11 in /usr/local/lib/python3.8/dist-packages (from scikit-learn>=0.22.0->uci-dataset) (1.2.0)\n",
            "Requirement already satisfied: threadpoolctl>=2.0.0 in /usr/local/lib/python3.8/dist-packages (from scikit-learn>=0.22.0->uci-dataset) (3.1.0)\n",
            "Installing collected packages: rarfile, uci-dataset\n",
            "Successfully installed rarfile-4.0 uci-dataset-0.0.7\n",
            "Cloning into 'sampleData'...\n",
            "remote: Enumerating objects: 11648, done.\u001b[K\n",
            "remote: Counting objects: 100% (22/22), done.\u001b[K\n",
            "remote: Compressing objects: 100% (18/18), done.\u001b[K\n",
            "remote: Total 11648 (delta 5), reused 21 (delta 4), pack-reused 11626\u001b[K\n",
            "Receiving objects: 100% (11648/11648), 171.48 MiB | 22.10 MiB/s, done.\n",
            "Resolving deltas: 100% (5/5), done.\n",
            "Checking out files: 100% (11644/11644), done.\n"
          ]
        }
      ]
    },
    {
      "cell_type": "code",
      "source": [
        "def normalKNN(trainX, testX, trainY, testY):\n",
        "  bestAcc = 0\n",
        "  bestK = 0\n",
        "  for k in range (2, 10): \n",
        "    model = KNeighborsClassifier(n_neighbors=k, algorithm='ball_tree')\n",
        "    model.fit(trainX, trainY)\n",
        "    predicted = model.predict(testX)\n",
        "    accuracyScore = metrics.accuracy_score(testY, predicted)\n",
        "    if accuracyScore > bestAcc:\n",
        "      bestK = k\n",
        "      bestAcc = accuracyScore\n",
        "\n",
        "  model = KNeighborsClassifier(n_neighbors= bestK, algorithm='ball_tree')\n",
        "  model.fit(trainX, trainY)\n",
        "  predicted = model.predict(testX)\n",
        "  return predicted, bestAcc, bestK"
      ],
      "metadata": {
        "id": "sDIAlWRtpVjT"
      },
      "execution_count": null,
      "outputs": []
    },
    {
      "cell_type": "code",
      "source": [
        "seedsFile = '/content/sampleData/modifiedDatasets/seeds.csv'\n",
        "df = pd.read_csv(seedsFile)\n",
        "data = np.array(df)\n",
        "Y = data[:,data.shape[1]-1]\n",
        "# Y = np.reshape(Y, (len(Y),1))\n",
        "X = np.delete(data, data.shape[1]-1, 1)\n",
        "trainX, testX, trainY, testY = train_test_split(X, Y, test_size=0.2, random_state=42)\n",
        "normalized_x_train = normalize(trainX)\n",
        "normalized_x_test = normalize(testX)\n",
        "\n",
        "predicted, accuracyScore, bestK = normalKNN(normalized_x_train, normalized_x_test, trainY, testY)\n",
        "print(\"The best K =\", bestK, \"and the corresponding accuracy is\", accuracyScore)"
      ],
      "metadata": {
        "colab": {
          "base_uri": "https://localhost:8080/"
        },
        "id": "lnz55p0cphM6",
        "outputId": "f852c1ac-e1cf-43d5-8575-07daf98e12f7"
      },
      "execution_count": null,
      "outputs": [
        {
          "output_type": "stream",
          "name": "stdout",
          "text": [
            "The best K = 8 and the corresponding accuracy is 0.7837837837837838\n"
          ]
        }
      ]
    },
    {
      "cell_type": "code",
      "source": [
        "transfusionFile = '/content/sampleData/modifiedDatasets/transfusion.csv'\n",
        "df = pd.read_csv(transfusionFile)\n",
        "data = np.array(df)\n",
        "Y = data[:,data.shape[1]-1]\n",
        "# Y = np.reshape(Y, (len(Y),1))\n",
        "X = np.delete(data, data.shape[1]-1, 1)\n",
        "trainX, testX, trainY, testY = train_test_split(X, Y, test_size=0.2, random_state=42)\n",
        "normalized_x_train = normalize(trainX)\n",
        "normalized_x_test = normalize(testX)\n",
        "\n",
        "predicted, accuracyScore, bestK = normalKNN(normalized_x_train, normalized_x_test, trainY, testY)\n",
        "print(\"The best K =\", bestK, \"and the corresponding accuracy is\", accuracyScore)"
      ],
      "metadata": {
        "colab": {
          "base_uri": "https://localhost:8080/"
        },
        "id": "94Wz50QEpnij",
        "outputId": "722189d8-69d8-4e21-c205-cfc694f14ceb"
      },
      "execution_count": null,
      "outputs": [
        {
          "output_type": "stream",
          "name": "stdout",
          "text": [
            "The best K = 6 and the corresponding accuracy is 0.525\n"
          ]
        }
      ]
    },
    {
      "cell_type": "code",
      "source": [
        "soybeanFile = '/content/sampleData/modifiedDatasets/soybeans.csv'\n",
        "df = pd.read_csv(soybeanFile)\n",
        "data = np.array(df)\n",
        "Y = data[:,data.shape[1]-1]\n",
        "# Y = np.reshape(Y, (len(Y),1))\n",
        "X = np.delete(data, data.shape[1]-1, 1)\n",
        "trainX, testX, trainY, testY = train_test_split(X, Y, test_size=0.2, random_state=42)\n",
        "normalized_x_train = normalize(trainX)\n",
        "normalized_x_test = normalize(testX)\n",
        "\n",
        "predicted, accuracyScore, bestK = normalKNN(normalized_x_train, normalized_x_test, trainY, testY)\n",
        "print(\"The best K =\", bestK, \"and the corresponding accuracy is\", accuracyScore)"
      ],
      "metadata": {
        "colab": {
          "base_uri": "https://localhost:8080/"
        },
        "id": "Wblybcbpt-oU",
        "outputId": "5c0be7e9-956f-4347-a0fc-ddefc0e30c62"
      },
      "execution_count": null,
      "outputs": [
        {
          "output_type": "stream",
          "name": "stdout",
          "text": [
            "The best K = 3 and the corresponding accuracy is 0.6029411764705882\n"
          ]
        }
      ]
    },
    {
      "cell_type": "code",
      "source": [
        "immunoFile = '/content/sampleData/modifiedDatasets/Immuno.csv'\n",
        "df = pd.read_csv(immunoFile)\n",
        "data = np.array(df)\n",
        "Y = data[:,data.shape[1]-1]\n",
        "# Y = np.reshape(Y, (len(Y),1))\n",
        "X = np.delete(data, data.shape[1]-1, 1)\n",
        "trainX, testX, trainY, testY = train_test_split(X, Y, test_size=0.2, random_state=42)\n",
        "normalized_x_train = normalize(trainX)\n",
        "normalized_x_test = normalize(testX)\n",
        "\n",
        "predicted, accuracyScore, bestK = normalKNN(normalized_x_train, normalized_x_test, trainY, testY)\n",
        "print(\"The best K =\", bestK, \"and the corresponding accuracy is\", accuracyScore)"
      ],
      "metadata": {
        "colab": {
          "base_uri": "https://localhost:8080/"
        },
        "id": "wf00QX3b8juS",
        "outputId": "ddbbcf10-dc4c-4442-f46c-cdac3615c34f"
      },
      "execution_count": null,
      "outputs": [
        {
          "output_type": "stream",
          "name": "stdout",
          "text": [
            "The best K = 3 and the corresponding accuracy is 0.8185654008438819\n"
          ]
        }
      ]
    }
  ]
}