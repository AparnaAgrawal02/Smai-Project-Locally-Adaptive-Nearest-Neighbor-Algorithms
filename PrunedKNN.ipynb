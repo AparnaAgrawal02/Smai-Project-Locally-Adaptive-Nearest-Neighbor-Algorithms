{
  "cells": [
    {
      "cell_type": "code",
      "execution_count": null,
      "metadata": {
        "id": "hOcYVB9z4Dpy"
      },
      "outputs": [],
      "source": [
        "from sklearn.neighbors import KNeighborsClassifier\n",
        "from sklearn.model_selection import train_test_split\n",
        "from sklearn.model_selection import LeaveOneOut\n",
        "from sklearn.preprocessing import Normalizer\n",
        "from sklearn import datasets\n",
        "from sklearn.preprocessing import normalize\n",
        "from sklearn import metrics\n",
        "from sklearn.model_selection import KFold, cross_val_score\n",
        "import numpy as np\n",
        "import seaborn as sns\n",
        "from sklearn.manifold import TSNE\n",
        "import pandas as pd\n",
        "import matplotlib.pyplot as plt\n",
        "import statistics\n",
        "from mlxtend.plotting import plot_decision_regions"
      ]
    },
    {
      "cell_type": "code",
      "execution_count": null,
      "metadata": {
        "colab": {
          "base_uri": "https://localhost:8080/"
        },
        "id": "2yIbjoKd4GB6",
        "outputId": "fd2b16de-a239-40d2-de98-7d63212785d6"
      },
      "outputs": [
        {
          "name": "stdout",
          "output_type": "stream",
          "text": [
            "Looking in indexes: https://pypi.org/simple, https://us-python.pkg.dev/colab-wheels/public/simple/\n",
            "Requirement already satisfied: uci-dataset in /usr/local/lib/python3.8/dist-packages (0.0.7)\n",
            "Requirement already satisfied: scikit-learn>=0.22.0 in /usr/local/lib/python3.8/dist-packages (from uci-dataset) (1.0.2)\n",
            "Requirement already satisfied: numpy in /usr/local/lib/python3.8/dist-packages (from uci-dataset) (1.21.6)\n",
            "Requirement already satisfied: xlrd>=1.0.0 in /usr/local/lib/python3.8/dist-packages (from uci-dataset) (1.1.0)\n",
            "Requirement already satisfied: scipy>=1.4.1 in /usr/local/lib/python3.8/dist-packages (from uci-dataset) (1.7.3)\n",
            "Requirement already satisfied: rarfile in /usr/local/lib/python3.8/dist-packages (from uci-dataset) (4.0)\n",
            "Requirement already satisfied: pandas>=0.13 in /usr/local/lib/python3.8/dist-packages (from uci-dataset) (1.3.5)\n",
            "Requirement already satisfied: pytz>=2017.3 in /usr/local/lib/python3.8/dist-packages (from pandas>=0.13->uci-dataset) (2022.6)\n",
            "Requirement already satisfied: python-dateutil>=2.7.3 in /usr/local/lib/python3.8/dist-packages (from pandas>=0.13->uci-dataset) (2.8.2)\n",
            "Requirement already satisfied: six>=1.5 in /usr/local/lib/python3.8/dist-packages (from python-dateutil>=2.7.3->pandas>=0.13->uci-dataset) (1.15.0)\n",
            "Requirement already satisfied: joblib>=0.11 in /usr/local/lib/python3.8/dist-packages (from scikit-learn>=0.22.0->uci-dataset) (1.2.0)\n",
            "Requirement already satisfied: threadpoolctl>=2.0.0 in /usr/local/lib/python3.8/dist-packages (from scikit-learn>=0.22.0->uci-dataset) (3.1.0)\n",
            "fatal: destination path 'sampleData' already exists and is not an empty directory.\n"
          ]
        }
      ],
      "source": [
        "!pip3 install uci-dataset\n",
        "from sklearn import datasets\n",
        "import uci_dataset as dataset\n",
        "!git clone https://github.com/tanmay-pro/sampleData.git"
      ]
    },
    {
      "cell_type": "code",
      "execution_count": null,
      "metadata": {
        "id": "OqBupIAI4lXG"
      },
      "outputs": [],
      "source": [
        "def getValidk(trainX):\n",
        "  loo = LeaveOneOut()\n",
        "  loo.get_n_splits(trainX)\n",
        "  validK = []\n",
        "  for train_index, test_index in loo.split(trainX):\n",
        "    trainData, testData = trainX[train_index], trainX[test_index]\n",
        "    trainLabel, testLabel = trainY[train_index], trainY[test_index]\n",
        "    validSampleK = []\n",
        "    for k in range(2, 10):\n",
        "        model = KNeighborsClassifier(n_neighbors=k)\n",
        "        model.fit(trainData, trainLabel)\n",
        "        predicted = model.predict(testData)\n",
        "        if predicted == testLabel:   \n",
        "            validSampleK.append(k)\n",
        "    validK.append(validSampleK)\n",
        "  validK = np.array(validK, dtype=object)\n",
        "  return validK\n",
        "\n",
        "def getPreTrainedModels(trainX, trainY):\n",
        "  trainedModels = []\n",
        "  for i in range(2, 10):\n",
        "    model = KNeighborsClassifier(n_neighbors=i)\n",
        "    model.fit(trainX, trainY)\n",
        "    trainedModels.append(model)\n",
        "  return trainedModels    \n",
        "\n",
        "def getPrediction(validK, trainedModels, M, trainX, testX, trainY):\n",
        "  finalPredictions = []\n",
        "  predictedKFrequency = [0]*10\n",
        "  for i in range(0, len(testX)):\n",
        "    distances = []\n",
        "    for j in range(0, len(trainX)):\n",
        "        distances.append(np.linalg.norm(testX[i] - trainX[j]))\n",
        "    distances = np.array(distances)\n",
        "    indices = np.argsort(distances)\n",
        "    nebrIndices = indices[0:M]\n",
        "    nebrLabels = trainY[nebrIndices]\n",
        "\n",
        "    kCorrectClassified = np.zeros(10)\n",
        "    for ind in nebrIndices:\n",
        "        kcurrArray = validK[ind]\n",
        "        for z in range(len(kcurrArray)):\n",
        "            k = kcurrArray[z]\n",
        "            kCorrectClassified[k] += 1\n",
        "    kbest = np.argmax(kCorrectClassified)\n",
        "    predictedKFrequency[kbest] += 1\n",
        "    predictedClass = trainedModels[kbest - 2].predict(testX[i].reshape(1, -1))\n",
        "    finalPredictions.append(predictedClass)\n",
        "  return finalPredictions, predictedKFrequency\n",
        "\n",
        "def localUnrestrictedKNN(trainX, testX, trainY, testY, M):\n",
        "  validK = getValidk(trainX)\n",
        "  trainedModels = getPreTrainedModels(trainX, trainY)\n",
        "  predicted, predictedKFrequency = getPrediction(validK, trainedModels, M, trainX, testX, trainY)\n",
        "  return predicted, predictedKFrequency, metrics.accuracy_score(testY, predicted)"
      ]
    },
    {
      "cell_type": "code",
      "execution_count": null,
      "metadata": {
        "id": "OKdcTrGA4KSd"
      },
      "outputs": [],
      "source": [
        "def prunedKNN(trainX, testX, trainY, testY, M):\n",
        "  validK = getValidk(trainX)\n",
        "  finalK = []\n",
        "  for lst in validK:\n",
        "    finalK = finalK + lst\n",
        "  freq = np.bincount(np.array(finalK))\n",
        "\n",
        "  bestL = 0\n",
        "  bestScore = -1\n",
        "  accValuesL = []\n",
        "  for L in range(2, np.max(freq)):\n",
        "    array_list = []\n",
        "    for m in range(len(validK)):\n",
        "      array_list.append(np.array(validK[m]))\n",
        "\n",
        "    validK = array_list\n",
        "    arr = np.array(validK, dtype=object)\n",
        "    freq_to_prune = []\n",
        "    \n",
        "    for i in range(len(freq)):\n",
        "      if(freq[i] < L):\n",
        "        freq_to_prune.append(i)\n",
        "\n",
        "    for i in range(arr.shape[0]):\n",
        "      for j in freq_to_prune:\n",
        "        if j in arr[i] and arr[i].shape[0] != 1:\n",
        "          arr[i] = np.delete(arr[i], np.where(arr[i] == j))\n",
        "\n",
        "    validK = []\n",
        "    for i in range(arr.shape[0]):\n",
        "      validK.append(arr[i])\n",
        "    trainedModels = getPreTrainedModels(trainX, trainY)\n",
        "    predicted, predictedKFrequency = getPrediction(validK, trainedModels, M, trainX, testX, trainY)\n",
        "   # print(testY.shape, predicted.shape)\n",
        "    score = metrics.accuracy_score(testY, predicted)\n",
        "    if(score > bestScore):\n",
        "      bestScore = score\n",
        "      bestL = L\n",
        "    # print(\"Current Accuracy: \", score, \" for:\", L)\n",
        "    accValuesL.append(score)\n",
        "  print(\"Best Accuracy: \", bestScore, \" for:\", bestL)\n",
        "  plt.plot(accValuesL)\n",
        "  plt.xlabel(\"Pruning Threshold\")\n",
        "  plt.ylabel(\"Accuracy\")\n",
        "  plt.grid()\n",
        "  plt.show()\n",
        "  return predicted, predictedKFrequency, bestScore"
      ]
    },
    {
      "cell_type": "code",
      "execution_count": null,
      "metadata": {
        "colab": {
          "base_uri": "https://localhost:8080/"
        },
        "id": "80mvOBWX5FvW",
        "outputId": "6e59632a-3bd9-4c93-d138-e36c33141524"
      },
      "outputs": [
        {
          "name": "stdout",
          "output_type": "stream",
          "text": [
            "Best Accuracy:  0.7477477477477478  for m = 8\n"
          ]
        }
      ],
      "source": [
        "seedsFile = '/content/sampleData/modifiedDatasets/seeds.csv'\n",
        "df = pd.read_csv(seedsFile)\n",
        "data = np.array(df)\n",
        "Y = data[:,data.shape[1]-1]\n",
        "# Y = np.reshape(Y, (len(Y),1))\n",
        "X = np.delete(data, data.shape[1]-1, 1)\n",
        "trainX, testX, trainY, testY = train_test_split(X, Y, test_size=0.2, random_state=42)\n",
        "normalized_x_train = normalize(trainX)\n",
        "normalized_x_test = normalize(testX)\n",
        "\n",
        "\n",
        "bestM = 0\n",
        "bestScore = -1\n",
        "for m in range(2,20):\n",
        "  predicted, predictedKFrequency, accuracyScore  = localUnrestrictedKNN(normalized_x_train, normalized_x_test, trainY, testY, m)\n",
        "  if(accuracyScore > bestScore):\n",
        "    bestScore = accuracyScore\n",
        "    bestM = m\n",
        "  # print(\"Current Accuracy: \", accuracyScore, \" for m =\", m)\n",
        "print(\"Best Accuracy: \", bestScore, \" for m =\", bestM)"
      ]
    },
    {
      "cell_type": "code",
      "execution_count": null,
      "metadata": {
        "colab": {
          "base_uri": "https://localhost:8080/",
          "height": 593
        },
        "id": "rtwZBDA9SJ0D",
        "outputId": "a712ee71-8757-44cf-a4ee-0068e2633a66"
      },
      "outputs": [
        {
          "name": "stdout",
          "output_type": "stream",
          "text": [
            "Best Accuracy:  0.7657657657657657  for: 0\n"
          ]
        },
        {
          "data": {
            "image/png": "[encoded data removed]",
            "text/plain": [
              "<Figure size 432x288 with 1 Axes>"
            ]
          },
          "metadata": {
            "needs_background": "light"
          },
          "output_type": "display_data"
        },
        {
          "name": "stdout",
          "output_type": "stream",
          "text": [
            "Accuracy Score =  0.7657657657657657\n",
            "Chosen m =  8\n"
          ]
        },
        {
          "data": {
            "image/png": "[encoded data removed]",
            "text/plain": [
              "<Figure size 432x288 with 1 Axes>"
            ]
          },
          "metadata": {
            "needs_background": "light"
          },
          "output_type": "display_data"
        }
      ],
      "source": [
        "predicted, predictedKFrequency, accuracyScore = prunedKNN(normalized_x_train, normalized_x_test, trainY, testY, bestM)\n",
        "print(\"Accuracy Score = \", metrics.accuracy_score(testY, predicted))\n",
        "print(\"Chosen m = \", bestM)\n",
        "plt.plot(predictedKFrequency)\n",
        "plt.xlabel(\"Different K Values\")\n",
        "plt.ylabel(\"Frequency of each K Value\")\n",
        "plt.grid()\n",
        "plt.show()"
      ]
    },
    {
      "cell_type": "code",
      "execution_count": null,
      "metadata": {
        "colab": {
          "base_uri": "https://localhost:8080/"
        },
        "id": "k9-Lt0GmQoqJ",
        "outputId": "b18eba2a-fcfc-4961-d23f-d2820e56b10f"
      },
      "outputs": [
        {
          "name": "stdout",
          "output_type": "stream",
          "text": [
            "Current Accuracy:  0.4625  for m = 2\n",
            "Current Accuracy:  0.4875  for m = 3\n",
            "Current Accuracy:  0.4625  for m = 4\n",
            "Current Accuracy:  0.5  for m = 5\n",
            "Current Accuracy:  0.5  for m = 6\n",
            "Current Accuracy:  0.5125  for m = 7\n",
            "Current Accuracy:  0.5125  for m = 8\n",
            "Current Accuracy:  0.5125  for m = 9\n"
          ]
        }
      ],
      "source": [
        "transfusionFile = '/content/sampleData/modifiedDatasets/transfusion.csv'\n",
        "df = pd.read_csv(transfusionFile)\n",
        "data = np.array(df)\n",
        "Y = data[:,data.shape[1]-1]\n",
        "# Y = np.reshape(Y, (len(Y),1))\n",
        "X = np.delete(data, data.shape[1]-1, 1)\n",
        "trainX, testX, trainY, testY = train_test_split(X, Y, test_size=0.2, random_state=42)\n",
        "normalized_x_train = normalize(trainX)\n",
        "normalized_x_test = normalize(testX)\n",
        "\n",
        "\n",
        "bestM = 0\n",
        "bestScore = -1\n",
        "for m in range(2,10):\n",
        "  predicted, predictedKFrequency, accuracyScore  = localUnrestrictedKNN(normalized_x_train, normalized_x_test, trainY, testY, m)\n",
        "  if(accuracyScore > bestScore):\n",
        "    bestScore = accuracyScore\n",
        "    bestM = m\n",
        "  print(\"Current Accuracy: \", accuracyScore, \" for m =\", m)"
      ]
    },
    {
      "cell_type": "code",
      "execution_count": null,
      "metadata": {
        "colab": {
          "base_uri": "https://localhost:8080/",
          "height": 593
        },
        "id": "uSU5l0yxSLqz",
        "outputId": "e524444b-3fc5-4dac-adb7-bd3ab88809fa"
      },
      "outputs": [
        {
          "name": "stdout",
          "output_type": "stream",
          "text": [
            "Best Accuracy:  0.5625  for: 0\n"
          ]
        },
        {
          "data": {
            "image/png": "[encoded data removed]",
            "text/plain": [
              "<Figure size 432x288 with 1 Axes>"
            ]
          },
          "metadata": {
            "needs_background": "light"
          },
          "output_type": "display_data"
        },
        {
          "name": "stdout",
          "output_type": "stream",
          "text": [
            "Accuracy Score =  0.525\n",
            "Chosen m =  7\n"
          ]
        },
        {
          "data": {
            "image/png": "[encoded data removed]",
            "text/plain": [
              "<Figure size 432x288 with 1 Axes>"
            ]
          },
          "metadata": {
            "needs_background": "light"
          },
          "output_type": "display_data"
        }
      ],
      "source": [
        "predicted, predictedKFrequency, accuracyScore = prunedKNN(normalized_x_train, normalized_x_test, trainY, testY, bestM)\n",
        "print(\"Accuracy Score = \", metrics.accuracy_score(testY, predicted))\n",
        "print(\"Chosen m = \", bestM)\n",
        "plt.plot(predictedKFrequency)\n",
        "plt.xlabel(\"Different K Values\")\n",
        "plt.ylabel(\"Frequency of each K Value\")\n",
        "plt.show()"
      ]
    },
    {
      "cell_type": "code",
      "execution_count": null,
      "metadata": {
        "colab": {
          "base_uri": "https://localhost:8080/"
        },
        "id": "nhlL8g3SQzB1",
        "outputId": "5b5af166-748b-4241-b4a2-13895fa4d194"
      },
      "outputs": [
        {
          "name": "stdout",
          "output_type": "stream",
          "text": [
            "Current Accuracy:  0.5882352941176471  for m = 2\n",
            "Current Accuracy:  0.6029411764705882  for m = 3\n",
            "Current Accuracy:  0.5882352941176471  for m = 4\n",
            "Current Accuracy:  0.6176470588235294  for m = 5\n",
            "Current Accuracy:  0.5882352941176471  for m = 6\n",
            "Current Accuracy:  0.5882352941176471  for m = 7\n",
            "Current Accuracy:  0.5882352941176471  for m = 8\n",
            "Current Accuracy:  0.5882352941176471  for m = 9\n"
          ]
        }
      ],
      "source": [
        "soyFile = '/content/sampleData/modifiedDatasets/soybeans.csv'\n",
        "df = pd.read_csv(soyFile)\n",
        "data = np.array(df)\n",
        "Y = data[:,data.shape[1]-1]\n",
        "# Y = np.reshape(Y, (len(Y),1))\n",
        "X = np.delete(data, data.shape[1]-1, 1)\n",
        "trainX, testX, trainY, testY = train_test_split(X, Y, test_size=0.2, random_state=42)\n",
        "normalized_x_train = normalize(trainX)\n",
        "normalized_x_test = normalize(testX)\n",
        "\n",
        "bestM = 0\n",
        "bestScore = -1\n",
        "for m in range(2,10):\n",
        "  predicted, predictedKFrequency, accuracyScore  = localUnrestrictedKNN(normalized_x_train, normalized_x_test, trainY, testY, m)\n",
        "  if(accuracyScore > bestScore):\n",
        "    bestScore = accuracyScore\n",
        "    bestM = m\n",
        "  print(\"Current Accuracy: \", accuracyScore, \" for m =\", m)\n",
        "\n"
      ]
    },
    {
      "cell_type": "code",
      "execution_count": null,
      "metadata": {
        "colab": {
          "base_uri": "https://localhost:8080/",
          "height": 593
        },
        "id": "qJoU7pbTSNTB",
        "outputId": "43e59f77-4cec-4efc-e17c-cd6148213097"
      },
      "outputs": [
        {
          "name": "stdout",
          "output_type": "stream",
          "text": [
            "Best Accuracy:  0.6176470588235294  for: 0\n"
          ]
        },
        {
          "data": {
            "image/png": "[encoded data removed]",
            "text/plain": [
              "<Figure size 432x288 with 1 Axes>"
            ]
          },
          "metadata": {
            "needs_background": "light"
          },
          "output_type": "display_data"
        },
        {
          "name": "stdout",
          "output_type": "stream",
          "text": [
            "Accuracy Score =  0.5882352941176471\n",
            "Chosen m =  5\n"
          ]
        },
        {
          "data": {
            "image/png": "[encoded data removed]",
            "text/plain": [
              "<Figure size 432x288 with 1 Axes>"
            ]
          },
          "metadata": {
            "needs_background": "light"
          },
          "output_type": "display_data"
        }
      ],
      "source": [
        "predicted, predictedKFrequency, accuracyScore = prunedKNN(normalized_x_train, normalized_x_test, trainY, testY, bestM)\n",
        "print(\"Accuracy Score = \", metrics.accuracy_score(testY, predicted))\n",
        "print(\"Chosen m = \", bestM)\n",
        "plt.plot(predictedKFrequency)\n",
        "plt.xlabel(\"Different K Values\")\n",
        "plt.ylabel(\"Frequency of each K Value\")\n",
        "plt.show()"
      ]
    },
    {
      "cell_type": "code",
      "execution_count": null,
      "metadata": {
        "colab": {
          "base_uri": "https://localhost:8080/"
        },
        "id": "thhswM4o5KT3",
        "outputId": "d5701765-e9c0-444b-b2b3-6b0d17b62e99"
      },
      "outputs": [
        {
          "name": "stdout",
          "output_type": "stream",
          "text": [
            "Current Accuracy:  0.8219409282700422  for m = 2\n",
            "Current Accuracy:  0.8210970464135021  for m = 3\n"
          ]
        }
      ],
      "source": [
        "immunoFile = '/content/sampleData/modifiedDatasets/Immuno.csv'\n",
        "df = pd.read_csv(immunoFile)\n",
        "data = np.array(df)\n",
        "Y = data[:,data.shape[1]-1]\n",
        "# Y = np.reshape(Y, (len(Y),1))\n",
        "X = np.delete(data, data.shape[1]-1, 1)\n",
        "trainX, testX, trainY, testY = train_test_split(X, Y, test_size=0.2, random_state=42)\n",
        "normalized_x_train = normalize(trainX)\n",
        "normalized_x_test = normalize(testX)\n",
        "\n",
        "\n",
        "bestM = 0\n",
        "bestScore = -1\n",
        "for m in range(2,5):\n",
        "  predicted, predictedKFrequency, accuracyScore  = localUnrestrictedKNN(normalized_x_train, normalized_x_test, trainY, testY, m)\n",
        "  if(accuracyScore > bestScore):\n",
        "    bestScore = accuracyScore\n",
        "    bestM = m\n",
        "  print(\"Current Accuracy: \", accuracyScore, \" for m =\", m)"
      ]
    },
    {
      "cell_type": "code",
      "execution_count": null,
      "metadata": {
        "id": "DeHuDveDSOgn"
      },
      "outputs": [],
      "source": [
        "predicted, predictedKFrequency, accuracyScore = prunedKNN(normalized_x_train, normalized_x_test, trainY, testY, bestM)\n",
        "print(\"Accuracy Score = \", metrics.accuracy_score(testY, predicted))\n",
        "print(\"Chosen m = \", bestM)\n",
        "plt.plot(predictedKFrequency)\n",
        "plt.xlabel(\"Different K Values\")\n",
        "plt.ylabel(\"Frequency of each K Value\")\n",
        "plt.show()"
      ]
    }
  ],
  "metadata": {
    "colab": {
      "provenance": []
    },
    "kernelspec": {
      "display_name": "Python 3",
      "name": "python3"
    },
    "language_info": {
      "name": "python"
    }
  },
  "nbformat": 4,
  "nbformat_minor": 0
}
