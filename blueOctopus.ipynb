{
  "cells": [
    {
      "cell_type": "code",
      "execution_count": 7,
      "metadata": {
        "id": "9wvaJiNpOHMn"
      },
      "outputs": [],
      "source": [
        "from sklearn.neighbors import KNeighborsClassifier\n",
        "from sklearn.model_selection import train_test_split\n",
        "from sklearn.model_selection import LeaveOneOut\n",
        "from sklearn.preprocessing import Normalizer\n",
        "from sklearn.preprocessing import normalize\n",
        "from sklearn import datasets\n",
        "from sklearn import metrics\n",
        "import numpy as np"
      ]
    },
    {
      "cell_type": "code",
      "source": [
        "#1 Normal KNN\n",
        "def normalKNN(trainX, testX, trainY, testY):\n",
        "  model = KNeighborsClassifier(n_neighbors=3, algorithm='ball_tree')\n",
        "  model.fit(trainX, trainY)\n",
        "  predicted = model.predict(testX)\n",
        "  print(\"Accuracy Score = \", metrics.accuracy_score(testY, predicted))"
      ],
      "metadata": {
        "id": "jm-Pu6CX_DDu"
      },
      "execution_count": 8,
      "outputs": []
    },
    {
      "cell_type": "markdown",
      "source": [
        "Leave-one-out cross validation is K-fold cross validation taken to its logical extreme, with K equal to N, the number of data points in the set. That means that N separate times, the function approximator is trained on all the data except for one point and a prediction is made for that point"
      ],
      "metadata": {
        "id": "4QAzlT5uZ06f"
      }
    },
    {
      "cell_type": "code",
      "source": [
        "#2 Local Unrestricted KNN\n",
        "def getValidk(trainX):\n",
        "  loo = LeaveOneOut()\n",
        "  loo.get_n_splits(trainX)\n",
        "  validK = []\n",
        "  for train_index, test_index in loo.split(trainX):\n",
        "    trainData, testData = trainX[train_index], trainX[test_index]\n",
        "    trainLabel, testLabel = trainY[train_index], trainY[test_index]\n",
        "    validSampleK = []\n",
        "    for k in range(2, 30):\n",
        "        model = KNeighborsClassifier(n_neighbors=k)\n",
        "        model.fit(trainData, trainLabel)\n",
        "        predicted = model.predict(testData)\n",
        "        if predicted == testLabel:   \n",
        "            validSampleK.append(k)\n",
        "    validK.append(validSampleK)\n",
        "  validK = np.array(validK)\n",
        "  return validK\n",
        "\n",
        "def getPreTrainedModels(trainX, trainY):\n",
        "  trainedModels = []\n",
        "  for i in range(2, 30):\n",
        "    model = KNeighborsClassifier(n_neighbors=i, algorithm='ball_tree')\n",
        "    model.fit(trainX, trainY)\n",
        "    trainedModels.append(model)\n",
        "  return trainedModels    \n",
        "\n",
        "def getPrediction(validK, trainedModels, M, trainX, testX, trainY):\n",
        "  finalPredictions = []\n",
        "  for i in range(0, len(testX)):\n",
        "    distances = []\n",
        "    for j in range(0, len(trainX)):\n",
        "        distances.append(np.linalg.norm(testX[i] - trainX[j]))\n",
        "    distances = np.array(distances)\n",
        "    indices = np.argsort(distances)\n",
        "    nebrIndices = indices[0:M]\n",
        "    nebrLabels = trainY[nebrIndices]\n",
        "\n",
        "    kCorrectClassified = np.zeros(30)\n",
        "    for ind in indices:\n",
        "        kcurrArray = validK[ind]\n",
        "        for z in range(len(kcurrArray)):\n",
        "            k = kcurrArray[z]\n",
        "            kCorrectClassified[k] += 1\n",
        "    kbest = np.argmax(kCorrectClassified)\n",
        "    predictedClass = trainedModels[kbest - 2].predict(testX[i].reshape(1, -1))\n",
        "    finalPredictions.append(predictedClass)\n",
        "  return finalPredictions\n",
        "\n",
        "def localUnrestrictedKNN(trainX, testX, trainY, testY, M):\n",
        "  validK = getValidk(trainX)\n",
        "  trainedModels = getPreTrainedModels(trainX, trainY)\n",
        "  predicted = getPrediction(validK, trainedModels, M, trainX, testX, trainY)\n",
        "  print(\"Accuracy Score = \", metrics.accuracy_score(testY, predicted)) "
      ],
      "metadata": {
        "id": "LwU3mquaATQx"
      },
      "execution_count": 9,
      "outputs": []
    },
    {
      "cell_type": "code",
      "source": [
        "def get_dataset():\n",
        "  dataset = datasets.load_digits()\n",
        "  X = dataset.data\n",
        "  y = dataset.target\n",
        "  return X, y\n",
        "\n",
        "X, y = get_dataset()\n",
        "\n",
        "trainX, testX, trainY, testY = train_test_split(X, y, test_size=0.2, random_state=42)\n",
        "\n",
        "normalized_x_train = normalize(trainX)\n",
        "normalized_x_test = normalize(testX)"
      ],
      "metadata": {
        "id": "nVo5GWOwCrgL"
      },
      "execution_count": 10,
      "outputs": []
    },
    {
      "cell_type": "code",
      "source": [
        "normalKNN(normalized_x_train, normalized_x_test, trainY, testY)"
      ],
      "metadata": {
        "colab": {
          "base_uri": "https://localhost:8080/"
        },
        "id": "TbfhULIR_3CW",
        "outputId": "54421ec6-f624-4900-b311-a9f8752a71c7"
      },
      "execution_count": 11,
      "outputs": [
        {
          "output_type": "stream",
          "name": "stdout",
          "text": [
            "Accuracy Score =  0.9861111111111112\n"
          ]
        }
      ]
    },
    {
      "cell_type": "code",
      "source": [
        "localUnrestrictedKNN(normalized_x_train, normalized_x_test, trainY, testY, 1)"
      ],
      "metadata": {
        "colab": {
          "base_uri": "https://localhost:8080/"
        },
        "id": "8Vj_o3AYBdlB",
        "outputId": "d2502552-a921-470e-b15c-f62c3fe48405"
      },
      "execution_count": 12,
      "outputs": [
        {
          "output_type": "stream",
          "name": "stderr",
          "text": [
            "/usr/local/lib/python3.7/dist-packages/ipykernel_launcher.py:17: VisibleDeprecationWarning: Creating an ndarray from ragged nested sequences (which is a list-or-tuple of lists-or-tuples-or ndarrays with different lengths or shapes) is deprecated. If you meant to do this, you must specify 'dtype=object' when creating the ndarray.\n"
          ]
        },
        {
          "output_type": "stream",
          "name": "stdout",
          "text": [
            "Accuracy Score =  0.9861111111111112\n"
          ]
        }
      ]
    },
    {
      "cell_type": "markdown",
      "source": [],
      "metadata": {
        "id": "mRoLGotaUJwU"
      }
    }
  ],
  "metadata": {
    "colab": {
      "collapsed_sections": [],
      "provenance": []
    },
    "kernelspec": {
      "display_name": "Python 3",
      "name": "python3"
    },
    "language_info": {
      "name": "python"
    },
    "accelerator": "GPU",
    "gpuClass": "standard"
  },
  "nbformat": 4,
  "nbformat_minor": 0
}